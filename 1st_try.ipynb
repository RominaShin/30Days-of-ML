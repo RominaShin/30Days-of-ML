{
 "cells": [
  {
   "cell_type": "code",
   "execution_count": 24,
   "metadata": {
    "collapsed": true
   },
   "outputs": [],
   "source": [
    "import numpy as np\n",
    "import pandas as pd\n",
    "import matplotlib.pyplot as plt\n",
    "import seaborn as sns\n",
    "from sklearn.model_selection import train_test_split\n",
    "from sklearn.preprocessing import StandardScaler,MinMaxScaler,LabelEncoder,OneHotEncoder,OrdinalEncoder\n",
    "from pandas_profiling import ProfileReport\n",
    "from lightgbm import LGBMRegressor\n",
    "from sklearn.model_selection import KFold\n",
    "from tqdm import tqdm\n",
    "from sklearn.metrics import mean_squared_error\n",
    "import warnings\n",
    "warnings.filterwarnings('ignore')"
   ]
  },
  {
   "cell_type": "code",
   "execution_count": 5,
   "outputs": [],
   "source": [
    "train = pd.read_csv('train.csv',index_col='id')\n",
    "test = pd.read_csv('test.csv',index_col='id')"
   ],
   "metadata": {
    "collapsed": false,
    "pycharm": {
     "name": "#%%\n"
    }
   }
  },
  {
   "cell_type": "code",
   "execution_count": 13,
   "outputs": [
    {
     "data": {
      "text/plain": "   cat0 cat1 cat2 cat3 cat4 cat5 cat6 cat7 cat8 cat9  ...     cont5     cont6  \\\nid                                                    ...                       \n1     B    B    B    C    B    B    A    E    C    N  ...  0.400361  0.160266   \n2     B    B    A    A    B    D    A    F    A    O  ...  0.533087  0.558922   \n3     A    A    A    C    B    D    A    D    A    F  ...  0.650609  0.375348   \n4     B    B    A    C    B    D    A    E    C    K  ...  0.668980  0.239061   \n6     A    A    A    C    B    D    A    E    A    N  ...  0.686964  0.420667   \n\n       cont7     cont8     cont9    cont10    cont11    cont12    cont13  \\\nid                                                                         \n1   0.310921  0.389470  0.267559  0.237281  0.377873  0.322401  0.869850   \n2   0.516294  0.594928  0.341439  0.906013  0.921701  0.261975  0.465083   \n3   0.902567  0.555205  0.843531  0.748809  0.620126  0.541474  0.763846   \n4   0.732948  0.679618  0.574844  0.346010  0.714610  0.540150  0.280682   \n6   0.648182  0.684501  0.956692  1.000773  0.776742  0.625849  0.250823   \n\n      target  \nid            \n1   8.113634  \n2   8.481233  \n3   8.364351  \n4   8.049253  \n6   7.972260  \n\n[5 rows x 25 columns]",
      "text/html": "<div>\n<style scoped>\n    .dataframe tbody tr th:only-of-type {\n        vertical-align: middle;\n    }\n\n    .dataframe tbody tr th {\n        vertical-align: top;\n    }\n\n    .dataframe thead th {\n        text-align: right;\n    }\n</style>\n<table border=\"1\" class=\"dataframe\">\n  <thead>\n    <tr style=\"text-align: right;\">\n      <th></th>\n      <th>cat0</th>\n      <th>cat1</th>\n      <th>cat2</th>\n      <th>cat3</th>\n      <th>cat4</th>\n      <th>cat5</th>\n      <th>cat6</th>\n      <th>cat7</th>\n      <th>cat8</th>\n      <th>cat9</th>\n      <th>...</th>\n      <th>cont5</th>\n      <th>cont6</th>\n      <th>cont7</th>\n      <th>cont8</th>\n      <th>cont9</th>\n      <th>cont10</th>\n      <th>cont11</th>\n      <th>cont12</th>\n      <th>cont13</th>\n      <th>target</th>\n    </tr>\n    <tr>\n      <th>id</th>\n      <th></th>\n      <th></th>\n      <th></th>\n      <th></th>\n      <th></th>\n      <th></th>\n      <th></th>\n      <th></th>\n      <th></th>\n      <th></th>\n      <th></th>\n      <th></th>\n      <th></th>\n      <th></th>\n      <th></th>\n      <th></th>\n      <th></th>\n      <th></th>\n      <th></th>\n      <th></th>\n      <th></th>\n    </tr>\n  </thead>\n  <tbody>\n    <tr>\n      <th>1</th>\n      <td>B</td>\n      <td>B</td>\n      <td>B</td>\n      <td>C</td>\n      <td>B</td>\n      <td>B</td>\n      <td>A</td>\n      <td>E</td>\n      <td>C</td>\n      <td>N</td>\n      <td>...</td>\n      <td>0.400361</td>\n      <td>0.160266</td>\n      <td>0.310921</td>\n      <td>0.389470</td>\n      <td>0.267559</td>\n      <td>0.237281</td>\n      <td>0.377873</td>\n      <td>0.322401</td>\n      <td>0.869850</td>\n      <td>8.113634</td>\n    </tr>\n    <tr>\n      <th>2</th>\n      <td>B</td>\n      <td>B</td>\n      <td>A</td>\n      <td>A</td>\n      <td>B</td>\n      <td>D</td>\n      <td>A</td>\n      <td>F</td>\n      <td>A</td>\n      <td>O</td>\n      <td>...</td>\n      <td>0.533087</td>\n      <td>0.558922</td>\n      <td>0.516294</td>\n      <td>0.594928</td>\n      <td>0.341439</td>\n      <td>0.906013</td>\n      <td>0.921701</td>\n      <td>0.261975</td>\n      <td>0.465083</td>\n      <td>8.481233</td>\n    </tr>\n    <tr>\n      <th>3</th>\n      <td>A</td>\n      <td>A</td>\n      <td>A</td>\n      <td>C</td>\n      <td>B</td>\n      <td>D</td>\n      <td>A</td>\n      <td>D</td>\n      <td>A</td>\n      <td>F</td>\n      <td>...</td>\n      <td>0.650609</td>\n      <td>0.375348</td>\n      <td>0.902567</td>\n      <td>0.555205</td>\n      <td>0.843531</td>\n      <td>0.748809</td>\n      <td>0.620126</td>\n      <td>0.541474</td>\n      <td>0.763846</td>\n      <td>8.364351</td>\n    </tr>\n    <tr>\n      <th>4</th>\n      <td>B</td>\n      <td>B</td>\n      <td>A</td>\n      <td>C</td>\n      <td>B</td>\n      <td>D</td>\n      <td>A</td>\n      <td>E</td>\n      <td>C</td>\n      <td>K</td>\n      <td>...</td>\n      <td>0.668980</td>\n      <td>0.239061</td>\n      <td>0.732948</td>\n      <td>0.679618</td>\n      <td>0.574844</td>\n      <td>0.346010</td>\n      <td>0.714610</td>\n      <td>0.540150</td>\n      <td>0.280682</td>\n      <td>8.049253</td>\n    </tr>\n    <tr>\n      <th>6</th>\n      <td>A</td>\n      <td>A</td>\n      <td>A</td>\n      <td>C</td>\n      <td>B</td>\n      <td>D</td>\n      <td>A</td>\n      <td>E</td>\n      <td>A</td>\n      <td>N</td>\n      <td>...</td>\n      <td>0.686964</td>\n      <td>0.420667</td>\n      <td>0.648182</td>\n      <td>0.684501</td>\n      <td>0.956692</td>\n      <td>1.000773</td>\n      <td>0.776742</td>\n      <td>0.625849</td>\n      <td>0.250823</td>\n      <td>7.972260</td>\n    </tr>\n  </tbody>\n</table>\n<p>5 rows × 25 columns</p>\n</div>"
     },
     "execution_count": 13,
     "metadata": {},
     "output_type": "execute_result"
    }
   ],
   "source": [
    "train.head()"
   ],
   "metadata": {
    "collapsed": false,
    "pycharm": {
     "name": "#%%\n"
    }
   }
  },
  {
   "cell_type": "code",
   "execution_count": 8,
   "outputs": [
    {
     "data": {
      "text/plain": "Summarize dataset:   0%|          | 0/39 [00:00<?, ?it/s]",
      "application/vnd.jupyter.widget-view+json": {
       "version_major": 2,
       "version_minor": 0,
       "model_id": "66c82e509b314f13aa8b8a4b57294825"
      }
     },
     "metadata": {},
     "output_type": "display_data"
    },
    {
     "data": {
      "text/plain": "Generate report structure:   0%|          | 0/1 [00:00<?, ?it/s]",
      "application/vnd.jupyter.widget-view+json": {
       "version_major": 2,
       "version_minor": 0,
       "model_id": "cb76fac1a3ae473983f8ec41d3a083b3"
      }
     },
     "metadata": {},
     "output_type": "display_data"
    },
    {
     "data": {
      "text/plain": "Render HTML:   0%|          | 0/1 [00:00<?, ?it/s]",
      "application/vnd.jupyter.widget-view+json": {
       "version_major": 2,
       "version_minor": 0,
       "model_id": "6e9d86cba0324064a0f12ecb287134c2"
      }
     },
     "metadata": {},
     "output_type": "display_data"
    },
    {
     "ename": "TypeError",
     "evalue": "'str' object is not callable",
     "output_type": "error",
     "traceback": [
      "\u001B[1;31m---------------------------------------------------------------------------\u001B[0m",
      "\u001B[1;31mTypeError\u001B[0m                                 Traceback (most recent call last)",
      "\u001B[1;32m<ipython-input-8-12d41b43ccc7>\u001B[0m in \u001B[0;36m<module>\u001B[1;34m\u001B[0m\n\u001B[0;32m      1\u001B[0m \u001B[0mreport\u001B[0m \u001B[1;33m=\u001B[0m \u001B[0mProfileReport\u001B[0m\u001B[1;33m(\u001B[0m\u001B[0mtrain\u001B[0m\u001B[1;33m)\u001B[0m\u001B[1;33m\u001B[0m\u001B[1;33m\u001B[0m\u001B[0m\n\u001B[1;32m----> 2\u001B[1;33m \u001B[0mreport\u001B[0m\u001B[1;33m.\u001B[0m\u001B[0mhtml\u001B[0m\u001B[1;33m(\u001B[0m\u001B[1;33m)\u001B[0m\u001B[1;33m\u001B[0m\u001B[1;33m\u001B[0m\u001B[0m\n\u001B[0m",
      "\u001B[1;31mTypeError\u001B[0m: 'str' object is not callable"
     ]
    }
   ],
   "source": [
    "report = ProfileReport(train)"
   ],
   "metadata": {
    "collapsed": false,
    "pycharm": {
     "name": "#%%\n"
    }
   }
  },
  {
   "cell_type": "code",
   "execution_count": 12,
   "outputs": [
    {
     "data": {
      "text/plain": "Export report to file:   0%|          | 0/1 [00:00<?, ?it/s]",
      "application/vnd.jupyter.widget-view+json": {
       "version_major": 2,
       "version_minor": 0,
       "model_id": "e715accf1dc241ac95c221f86aedb194"
      }
     },
     "metadata": {},
     "output_type": "display_data"
    }
   ],
   "source": [
    "report.to_file('report.html')"
   ],
   "metadata": {
    "collapsed": false,
    "pycharm": {
     "name": "#%%\n"
    }
   }
  },
  {
   "cell_type": "code",
   "execution_count": 12,
   "outputs": [],
   "source": [],
   "metadata": {
    "collapsed": false,
    "pycharm": {
     "name": "#%%\n"
    }
   }
  },
  {
   "cell_type": "code",
   "execution_count": 19,
   "outputs": [],
   "source": [
    "cat_features = train.columns[0:10]\n",
    "\n",
    "le = LabelEncoder()\n",
    "ordinal_encoder = OrdinalEncoder()\n",
    "train[cat_features] = ordinal_encoder.fit_transform(train[cat_features])\n"
   ],
   "metadata": {
    "collapsed": false,
    "pycharm": {
     "name": "#%%\n"
    }
   }
  },
  {
   "cell_type": "code",
   "execution_count": 21,
   "outputs": [],
   "source": [
    "test[cat_features] = ordinal_encoder.transform(test[cat_features])"
   ],
   "metadata": {
    "collapsed": false,
    "pycharm": {
     "name": "#%%\n"
    }
   }
  },
  {
   "cell_type": "code",
   "execution_count": 22,
   "outputs": [],
   "source": [
    "X_train, X_test, y_train, y_test = train_test_split(train.drop('target',axis=1),train['target'],random_state=0)"
   ],
   "metadata": {
    "collapsed": false,
    "pycharm": {
     "name": "#%%\n"
    }
   }
  },
  {
   "cell_type": "code",
   "execution_count": 28,
   "outputs": [],
   "source": [
    "lgbm_parameters = {\n",
    "    'metric': 'rmse',\n",
    "    'n_jobs': -1,\n",
    "    'n_estimators': 50000,\n",
    "    'reg_alpha': 10.924491968127692,\n",
    "    'reg_lambda': 17.396730654687218,\n",
    "    'colsample_bytree': 0.21497646795452627,\n",
    "    'subsample': 0.7582562557431147,\n",
    "    'learning_rate': 0.009985133666265425,\n",
    "    'max_depth': 18,\n",
    "    'num_leaves': 63,\n",
    "    'min_child_samples': 27,\n",
    "    'max_bin': 523,\n",
    "    'cat_l2': 0.025083670064082797\n",
    "}"
   ],
   "metadata": {
    "collapsed": false,
    "pycharm": {
     "name": "#%%\n"
    }
   }
  },
  {
   "cell_type": "code",
   "execution_count": 38,
   "outputs": [
    {
     "name": "stderr",
     "output_type": "stream",
     "text": [
      "10it [23:10, 139.02s/it]\n"
     ]
    },
    {
     "name": "stdout",
     "output_type": "stream",
     "text": [
      "Training until validation scores don't improve for 400 rounds\n",
      "Early stopping, best iteration is:\n",
      "[3861]\ttraining's rmse: 0.691336\tvalid_1's rmse: 0.717291\n",
      "Training until validation scores don't improve for 400 rounds\n",
      "Early stopping, best iteration is:\n",
      "[3737]\ttraining's rmse: 0.691819\tvalid_1's rmse: 0.718843\n",
      "Training until validation scores don't improve for 400 rounds\n",
      "Early stopping, best iteration is:\n",
      "[3689]\ttraining's rmse: 0.692682\tvalid_1's rmse: 0.713776\n",
      "Training until validation scores don't improve for 400 rounds\n",
      "Early stopping, best iteration is:\n",
      "[4981]\ttraining's rmse: 0.686659\tvalid_1's rmse: 0.70768\n",
      "Training until validation scores don't improve for 400 rounds\n",
      "Early stopping, best iteration is:\n",
      "[4226]\ttraining's rmse: 0.689579\tvalid_1's rmse: 0.716008\n",
      "Training until validation scores don't improve for 400 rounds\n",
      "Early stopping, best iteration is:\n",
      "[3575]\ttraining's rmse: 0.693066\tvalid_1's rmse: 0.717965\n",
      "Training until validation scores don't improve for 400 rounds\n",
      "Early stopping, best iteration is:\n",
      "[4206]\ttraining's rmse: 0.689214\tvalid_1's rmse: 0.721419\n",
      "Training until validation scores don't improve for 400 rounds\n",
      "Early stopping, best iteration is:\n",
      "[5184]\ttraining's rmse: 0.684201\tvalid_1's rmse: 0.721046\n",
      "Training until validation scores don't improve for 400 rounds\n",
      "Early stopping, best iteration is:\n",
      "[4364]\ttraining's rmse: 0.688153\tvalid_1's rmse: 0.723175\n",
      "Training until validation scores don't improve for 400 rounds\n",
      "Early stopping, best iteration is:\n",
      "[4328]\ttraining's rmse: 0.688768\tvalid_1's rmse: 0.718749\n"
     ]
    }
   ],
   "source": [
    "X = train.drop('target',axis=1)\n",
    "y = train['target']\n",
    "\n",
    "lgbm_val_pred = np.zeros(len(y))\n",
    "lgbm_test_pred = np.zeros(len(test))\n",
    "mse = []\n",
    "kf = KFold(n_splits=10, shuffle=True)\n",
    "\n",
    "for trn_idx, val_idx in tqdm(kf.split(X,y)):\n",
    "    x_train_idx = X.iloc[trn_idx]\n",
    "    y_train_idx = y.iloc[trn_idx]\n",
    "    x_valid_idx = X.iloc[val_idx]\n",
    "    y_valid_idx = y.iloc[val_idx]\n",
    "\n",
    "    lgbm_model = LGBMRegressor(**lgbm_parameters)\n",
    "    lgbm_model.fit(x_train_idx, y_train_idx,\n",
    "                   eval_set = [(x_train_idx,y_train_idx),(x_valid_idx, y_valid_idx)],\n",
    "                   verbose = -1, early_stopping_rounds = 400\n",
    "                   #,categorical_feature=cat_features\n",
    "                    )\n",
    "    lgbm_test_pred += lgbm_model.predict(test)/10\n",
    "    mse.append(mean_squared_error(y_valid_idx, lgbm_model.predict(x_valid_idx)))\n",
    "\n",
    "np.mean(mse)\n",
    "pd.DataFrame({'id':test.index,'target':lgbm_test_pred}).to_csv('submission.csv', index=False)"
   ],
   "metadata": {
    "collapsed": false,
    "pycharm": {
     "name": "#%%\n"
    }
   }
  },
  {
   "cell_type": "code",
   "execution_count": 37,
   "outputs": [
    {
     "ename": "ValueError",
     "evalue": "For early stopping, at least one dataset and eval metric is required for evaluation",
     "output_type": "error",
     "traceback": [
      "\u001B[1;31m---------------------------------------------------------------------------\u001B[0m",
      "\u001B[1;31mValueError\u001B[0m                                Traceback (most recent call last)",
      "\u001B[1;32m<ipython-input-37-c099c5166c09>\u001B[0m in \u001B[0;36m<module>\u001B[1;34m\u001B[0m\n\u001B[0;32m      1\u001B[0m \u001B[0mlgbm_model\u001B[0m \u001B[1;33m=\u001B[0m \u001B[0mLGBMRegressor\u001B[0m\u001B[1;33m(\u001B[0m\u001B[1;33m**\u001B[0m\u001B[0mlgbm_parameters\u001B[0m\u001B[1;33m)\u001B[0m\u001B[1;33m\u001B[0m\u001B[1;33m\u001B[0m\u001B[0m\n\u001B[1;32m----> 2\u001B[1;33m lgbm_model.fit(X_train, y_train,\n\u001B[0m\u001B[0;32m      3\u001B[0m                    \u001B[1;31m#eval_set = [(x_train_idx,y_train_idx),(x_valid_idx, y_valid_idx)],\u001B[0m\u001B[1;33m\u001B[0m\u001B[1;33m\u001B[0m\u001B[1;33m\u001B[0m\u001B[0m\n\u001B[0;32m      4\u001B[0m                    verbose = -1, early_stopping_rounds = 400)\n\u001B[0;32m      5\u001B[0m \u001B[1;33m\u001B[0m\u001B[0m\n",
      "\u001B[1;32mC:\\ProgramData\\Anaconda3\\envs\\myclone\\lib\\site-packages\\lightgbm\\sklearn.py\u001B[0m in \u001B[0;36mfit\u001B[1;34m(self, X, y, sample_weight, init_score, eval_set, eval_names, eval_sample_weight, eval_init_score, eval_metric, early_stopping_rounds, verbose, feature_name, categorical_feature, callbacks, init_model)\u001B[0m\n\u001B[0;32m    768\u001B[0m             callbacks=None, init_model=None):\n\u001B[0;32m    769\u001B[0m         \u001B[1;34m\"\"\"Docstring is inherited from the LGBMModel.\"\"\"\u001B[0m\u001B[1;33m\u001B[0m\u001B[1;33m\u001B[0m\u001B[0m\n\u001B[1;32m--> 770\u001B[1;33m         super(LGBMRegressor, self).fit(X, y, sample_weight=sample_weight,\n\u001B[0m\u001B[0;32m    771\u001B[0m                                        \u001B[0minit_score\u001B[0m\u001B[1;33m=\u001B[0m\u001B[0minit_score\u001B[0m\u001B[1;33m,\u001B[0m \u001B[0meval_set\u001B[0m\u001B[1;33m=\u001B[0m\u001B[0meval_set\u001B[0m\u001B[1;33m,\u001B[0m\u001B[1;33m\u001B[0m\u001B[1;33m\u001B[0m\u001B[0m\n\u001B[0;32m    772\u001B[0m                                        \u001B[0meval_names\u001B[0m\u001B[1;33m=\u001B[0m\u001B[0meval_names\u001B[0m\u001B[1;33m,\u001B[0m\u001B[1;33m\u001B[0m\u001B[1;33m\u001B[0m\u001B[0m\n",
      "\u001B[1;32mC:\\ProgramData\\Anaconda3\\envs\\myclone\\lib\\site-packages\\lightgbm\\sklearn.py\u001B[0m in \u001B[0;36mfit\u001B[1;34m(self, X, y, sample_weight, init_score, group, eval_set, eval_names, eval_sample_weight, eval_class_weight, eval_init_score, eval_group, eval_metric, early_stopping_rounds, verbose, feature_name, categorical_feature, callbacks, init_model)\u001B[0m\n\u001B[0;32m    610\u001B[0m             \u001B[0minit_model\u001B[0m \u001B[1;33m=\u001B[0m \u001B[0minit_model\u001B[0m\u001B[1;33m.\u001B[0m\u001B[0mbooster_\u001B[0m\u001B[1;33m\u001B[0m\u001B[1;33m\u001B[0m\u001B[0m\n\u001B[0;32m    611\u001B[0m \u001B[1;33m\u001B[0m\u001B[0m\n\u001B[1;32m--> 612\u001B[1;33m         self._Booster = train(params, train_set,\n\u001B[0m\u001B[0;32m    613\u001B[0m                               \u001B[0mself\u001B[0m\u001B[1;33m.\u001B[0m\u001B[0mn_estimators\u001B[0m\u001B[1;33m,\u001B[0m \u001B[0mvalid_sets\u001B[0m\u001B[1;33m=\u001B[0m\u001B[0mvalid_sets\u001B[0m\u001B[1;33m,\u001B[0m \u001B[0mvalid_names\u001B[0m\u001B[1;33m=\u001B[0m\u001B[0meval_names\u001B[0m\u001B[1;33m,\u001B[0m\u001B[1;33m\u001B[0m\u001B[1;33m\u001B[0m\u001B[0m\n\u001B[0;32m    614\u001B[0m                               \u001B[0mearly_stopping_rounds\u001B[0m\u001B[1;33m=\u001B[0m\u001B[0mearly_stopping_rounds\u001B[0m\u001B[1;33m,\u001B[0m\u001B[1;33m\u001B[0m\u001B[1;33m\u001B[0m\u001B[0m\n",
      "\u001B[1;32mC:\\ProgramData\\Anaconda3\\envs\\myclone\\lib\\site-packages\\lightgbm\\engine.py\u001B[0m in \u001B[0;36mtrain\u001B[1;34m(params, train_set, num_boost_round, valid_sets, valid_names, fobj, feval, init_model, feature_name, categorical_feature, early_stopping_rounds, evals_result, verbose_eval, learning_rates, keep_training_booster, callbacks)\u001B[0m\n\u001B[0;32m    260\u001B[0m         \u001B[1;32mtry\u001B[0m\u001B[1;33m:\u001B[0m\u001B[1;33m\u001B[0m\u001B[1;33m\u001B[0m\u001B[0m\n\u001B[0;32m    261\u001B[0m             \u001B[1;32mfor\u001B[0m \u001B[0mcb\u001B[0m \u001B[1;32min\u001B[0m \u001B[0mcallbacks_after_iter\u001B[0m\u001B[1;33m:\u001B[0m\u001B[1;33m\u001B[0m\u001B[1;33m\u001B[0m\u001B[0m\n\u001B[1;32m--> 262\u001B[1;33m                 cb(callback.CallbackEnv(model=booster,\n\u001B[0m\u001B[0;32m    263\u001B[0m                                         \u001B[0mparams\u001B[0m\u001B[1;33m=\u001B[0m\u001B[0mparams\u001B[0m\u001B[1;33m,\u001B[0m\u001B[1;33m\u001B[0m\u001B[1;33m\u001B[0m\u001B[0m\n\u001B[0;32m    264\u001B[0m                                         \u001B[0miteration\u001B[0m\u001B[1;33m=\u001B[0m\u001B[0mi\u001B[0m\u001B[1;33m,\u001B[0m\u001B[1;33m\u001B[0m\u001B[1;33m\u001B[0m\u001B[0m\n",
      "\u001B[1;32mC:\\ProgramData\\Anaconda3\\envs\\myclone\\lib\\site-packages\\lightgbm\\callback.py\u001B[0m in \u001B[0;36m_callback\u001B[1;34m(env)\u001B[0m\n\u001B[0;32m    217\u001B[0m     \u001B[1;32mdef\u001B[0m \u001B[0m_callback\u001B[0m\u001B[1;33m(\u001B[0m\u001B[0menv\u001B[0m\u001B[1;33m)\u001B[0m\u001B[1;33m:\u001B[0m\u001B[1;33m\u001B[0m\u001B[1;33m\u001B[0m\u001B[0m\n\u001B[0;32m    218\u001B[0m         \u001B[1;32mif\u001B[0m \u001B[1;32mnot\u001B[0m \u001B[0mcmp_op\u001B[0m\u001B[1;33m:\u001B[0m\u001B[1;33m\u001B[0m\u001B[1;33m\u001B[0m\u001B[0m\n\u001B[1;32m--> 219\u001B[1;33m             \u001B[0m_init\u001B[0m\u001B[1;33m(\u001B[0m\u001B[0menv\u001B[0m\u001B[1;33m)\u001B[0m\u001B[1;33m\u001B[0m\u001B[1;33m\u001B[0m\u001B[0m\n\u001B[0m\u001B[0;32m    220\u001B[0m         \u001B[1;32mif\u001B[0m \u001B[1;32mnot\u001B[0m \u001B[0menabled\u001B[0m\u001B[1;33m[\u001B[0m\u001B[1;36m0\u001B[0m\u001B[1;33m]\u001B[0m\u001B[1;33m:\u001B[0m\u001B[1;33m\u001B[0m\u001B[1;33m\u001B[0m\u001B[0m\n\u001B[0;32m    221\u001B[0m             \u001B[1;32mreturn\u001B[0m\u001B[1;33m\u001B[0m\u001B[1;33m\u001B[0m\u001B[0m\n",
      "\u001B[1;32mC:\\ProgramData\\Anaconda3\\envs\\myclone\\lib\\site-packages\\lightgbm\\callback.py\u001B[0m in \u001B[0;36m_init\u001B[1;34m(env)\u001B[0m\n\u001B[0;32m    187\u001B[0m             \u001B[1;32mreturn\u001B[0m\u001B[1;33m\u001B[0m\u001B[1;33m\u001B[0m\u001B[0m\n\u001B[0;32m    188\u001B[0m         \u001B[1;32mif\u001B[0m \u001B[1;32mnot\u001B[0m \u001B[0menv\u001B[0m\u001B[1;33m.\u001B[0m\u001B[0mevaluation_result_list\u001B[0m\u001B[1;33m:\u001B[0m\u001B[1;33m\u001B[0m\u001B[1;33m\u001B[0m\u001B[0m\n\u001B[1;32m--> 189\u001B[1;33m             raise ValueError('For early stopping, '\n\u001B[0m\u001B[0;32m    190\u001B[0m                              'at least one dataset and eval metric is required for evaluation')\n\u001B[0;32m    191\u001B[0m \u001B[1;33m\u001B[0m\u001B[0m\n",
      "\u001B[1;31mValueError\u001B[0m: For early stopping, at least one dataset and eval metric is required for evaluation"
     ]
    }
   ],
   "source": [
    "lgbm_model = LGBMRegressor(**lgbm_parameters)\n",
    "lgbm_model.fit(X_train, y_train,\n",
    "                   #eval_set = [(x_train_idx,y_train_idx),(x_valid_idx, y_valid_idx)],\n",
    "                   verbose = -1, early_stopping_rounds = 400)"
   ],
   "metadata": {
    "collapsed": false,
    "pycharm": {
     "name": "#%%\n"
    }
   }
  },
  {
   "cell_type": "code",
   "execution_count": null,
   "outputs": [],
   "source": [],
   "metadata": {
    "collapsed": false,
    "pycharm": {
     "name": "#%%\n"
    }
   }
  }
 ],
 "metadata": {
  "kernelspec": {
   "name": "python3",
   "language": "python",
   "display_name": "Python 3"
  },
  "language_info": {
   "codemirror_mode": {
    "name": "ipython",
    "version": 2
   },
   "file_extension": ".py",
   "mimetype": "text/x-python",
   "name": "python",
   "nbconvert_exporter": "python",
   "pygments_lexer": "ipython2",
   "version": "2.7.6"
  }
 },
 "nbformat": 4,
 "nbformat_minor": 0
}